{
 "cells": [
  {
   "cell_type": "markdown",
   "source": [
    "# Conjuntos"
   ],
   "metadata": {}
  },
  {
   "cell_type": "code",
   "execution_count": 3,
   "source": [
    "conjunto = {1, 2, 3,4,5,6,1,3,4}"
   ],
   "outputs": [],
   "metadata": {}
  },
  {
   "cell_type": "code",
   "execution_count": 4,
   "source": [
    "conjunto"
   ],
   "outputs": [
    {
     "output_type": "execute_result",
     "data": {
      "text/plain": [
       "{1, 2, 3, 4, 5, 6}"
      ]
     },
     "metadata": {},
     "execution_count": 4
    }
   ],
   "metadata": {}
  },
  {
   "cell_type": "code",
   "execution_count": 6,
   "source": [
    "type(conjunto)"
   ],
   "outputs": [
    {
     "output_type": "execute_result",
     "data": {
      "text/plain": [
       "set"
      ]
     },
     "metadata": {},
     "execution_count": 6
    }
   ],
   "metadata": {}
  },
  {
   "cell_type": "code",
   "execution_count": 7,
   "source": [
    "dir(conjunto)"
   ],
   "outputs": [
    {
     "output_type": "execute_result",
     "data": {
      "text/plain": [
       "['__and__',\n",
       " '__class__',\n",
       " '__class_getitem__',\n",
       " '__contains__',\n",
       " '__delattr__',\n",
       " '__dir__',\n",
       " '__doc__',\n",
       " '__eq__',\n",
       " '__format__',\n",
       " '__ge__',\n",
       " '__getattribute__',\n",
       " '__gt__',\n",
       " '__hash__',\n",
       " '__iand__',\n",
       " '__init__',\n",
       " '__init_subclass__',\n",
       " '__ior__',\n",
       " '__isub__',\n",
       " '__iter__',\n",
       " '__ixor__',\n",
       " '__le__',\n",
       " '__len__',\n",
       " '__lt__',\n",
       " '__ne__',\n",
       " '__new__',\n",
       " '__or__',\n",
       " '__rand__',\n",
       " '__reduce__',\n",
       " '__reduce_ex__',\n",
       " '__repr__',\n",
       " '__ror__',\n",
       " '__rsub__',\n",
       " '__rxor__',\n",
       " '__setattr__',\n",
       " '__sizeof__',\n",
       " '__str__',\n",
       " '__sub__',\n",
       " '__subclasshook__',\n",
       " '__xor__',\n",
       " 'add',\n",
       " 'clear',\n",
       " 'copy',\n",
       " 'difference',\n",
       " 'difference_update',\n",
       " 'discard',\n",
       " 'intersection',\n",
       " 'intersection_update',\n",
       " 'isdisjoint',\n",
       " 'issubset',\n",
       " 'issuperset',\n",
       " 'pop',\n",
       " 'remove',\n",
       " 'symmetric_difference',\n",
       " 'symmetric_difference_update',\n",
       " 'union',\n",
       " 'update']"
      ]
     },
     "metadata": {},
     "execution_count": 7
    }
   ],
   "metadata": {}
  },
  {
   "cell_type": "code",
   "execution_count": 8,
   "source": [
    "conjunto.add(12)\r\n",
    "conjunto"
   ],
   "outputs": [
    {
     "output_type": "execute_result",
     "data": {
      "text/plain": [
       "{1, 2, 3, 4, 5, 6, 12}"
      ]
     },
     "metadata": {},
     "execution_count": 8
    }
   ],
   "metadata": {}
  },
  {
   "cell_type": "code",
   "execution_count": 11,
   "source": [
    "conjunto.add(12)\r\n",
    "conjunto"
   ],
   "outputs": [
    {
     "output_type": "execute_result",
     "data": {
      "text/plain": [
       "{1, 2, 3, 4, 5, 6, 12}"
      ]
     },
     "metadata": {},
     "execution_count": 11
    }
   ],
   "metadata": {}
  },
  {
   "cell_type": "code",
   "execution_count": null,
   "source": [
    "conjunto.add(-33)"
   ],
   "outputs": [],
   "metadata": {}
  },
  {
   "cell_type": "markdown",
   "source": [
    "# Operações com conjuntos"
   ],
   "metadata": {}
  },
  {
   "cell_type": "code",
   "execution_count": 34,
   "source": [
    "usuarios_data_science = {15, 23, 43, 56}\r\n",
    "usuarios_machine_learning = {13, 23, 56, 42}"
   ],
   "outputs": [],
   "metadata": {}
  },
  {
   "cell_type": "code",
   "execution_count": 36,
   "source": [
    "# União\r\n",
    "assistiram_qualquer_curso = usuarios_data_science | usuarios_machine_learning\r\n",
    "print(assistiram_qualquer_curso)"
   ],
   "outputs": [
    {
     "output_type": "stream",
     "name": "stdout",
     "text": [
      "{42, 43, 13, 15, 23, 56}\n"
     ]
    }
   ],
   "metadata": {}
  },
  {
   "cell_type": "code",
   "execution_count": 32,
   "source": [
    "# Intersecção\r\n",
    "assistiram_dois_cursos = usuarios_data_science & usuarios_machine_learning\r\n",
    "print(assistiram_dois_cursos)"
   ],
   "outputs": [
    {
     "output_type": "stream",
     "name": "stdout",
     "text": [
      "{56, 23}\n"
     ]
    }
   ],
   "metadata": {}
  },
  {
   "cell_type": "code",
   "execution_count": 37,
   "source": [
    "# Diferença entre conjuntos\r\n",
    "assistiram_apenas_ds = usuarios_data_science - usuarios_machine_learning\r\n",
    "print(assistiram_apenas_ds)"
   ],
   "outputs": [
    {
     "output_type": "stream",
     "name": "stdout",
     "text": [
      "{43, 15}\n"
     ]
    }
   ],
   "metadata": {}
  },
  {
   "cell_type": "code",
   "execution_count": 35,
   "source": [
    "# Ou exclusivo (união das diferenças)\r\n",
    "assistiram_apenas_um_curso = usuarios_data_science ^ usuarios_machine_learning\r\n",
    "print(assistiram_apenas_um_curso)"
   ],
   "outputs": [
    {
     "output_type": "stream",
     "name": "stdout",
     "text": [
      "{42, 43, 13, 15}\n"
     ]
    }
   ],
   "metadata": {}
  },
  {
   "cell_type": "markdown",
   "source": [
    "# Dicionários (Mapas)"
   ],
   "metadata": {}
  },
  {
   "cell_type": "markdown",
   "source": [
    "Para declarar um dicionário, a maneira mais simples é usar as chaves (`{}`) e listar os pares de chave e valor:"
   ],
   "metadata": {}
  },
  {
   "cell_type": "code",
   "execution_count": 38,
   "source": [
    "aparicoes = {\r\n",
    "    'Guilherme': 1,\r\n",
    "    'cachorro': 2,\r\n",
    "    'nome': 2,\r\n",
    "    'vindo': 1,\r\n",
    "}"
   ],
   "outputs": [],
   "metadata": {}
  },
  {
   "cell_type": "code",
   "execution_count": 39,
   "source": [
    "type(aparicoes)"
   ],
   "outputs": [
    {
     "output_type": "execute_result",
     "data": {
      "text/plain": [
       "dict"
      ]
     },
     "metadata": {},
     "execution_count": 39
    }
   ],
   "metadata": {}
  },
  {
   "cell_type": "code",
   "execution_count": 41,
   "source": [
    "print(f\"Aparições['Guilherme'] = {aparicoes['Guilherme']}\")"
   ],
   "outputs": [
    {
     "output_type": "stream",
     "name": "stdout",
     "text": [
      "Aparições['Guilherme'] = 1\n"
     ]
    }
   ],
   "metadata": {}
  },
  {
   "cell_type": "code",
   "execution_count": 44,
   "source": [
    "print(aparicoes.get('xpto', 0))"
   ],
   "outputs": [
    {
     "output_type": "stream",
     "name": "stdout",
     "text": [
      "0\n"
     ]
    }
   ],
   "metadata": {}
  },
  {
   "cell_type": "markdown",
   "source": [
    "# Ordenação com sorted"
   ],
   "metadata": {}
  },
  {
   "cell_type": "code",
   "execution_count": 63,
   "source": [
    "class Produto(object):\r\n",
    "    def __init__(self, nome, valor):\r\n",
    "        self.__nome = nome\r\n",
    "        self.__valor = valor\r\n",
    "\r\n",
    "    def __repr__(self):\r\n",
    "        return f'Nome: {self.nome:10} | Valo: R$ {self.valor:6.2f} | ID: {id(self)}'\r\n",
    "\r\n",
    "    def __str__(self):\r\n",
    "        return self.__repr__()\r\n",
    "\r\n",
    "    @property\r\n",
    "    def nome(self):\r\n",
    "        return self.__nome\r\n",
    "\r\n",
    "    @property\r\n",
    "    def valor(self):\r\n",
    "        return self.__valor\r\n",
    "\r\n",
    "def print_produtos(produtos, cabecalho):\r\n",
    "    print('==================================================================')\r\n",
    "    print(cabecalho)\r\n",
    "    print('==================================================================')\r\n",
    "\r\n",
    "    for produto in produtos:\r\n",
    "        print(f'\\t{produto}')\r\n",
    "\r\n",
    "produtos = [\r\n",
    "    Produto('chocolate', 3.45),\r\n",
    "    Produto('biscoito', 2.49),\r\n",
    "    Produto('cafe', 3.45),\r\n",
    "    Produto('suco', 4.3),\r\n",
    "    Produto('feijao', 10.0),\r\n",
    "    Produto('arroz', 8.5),\r\n",
    "]\r\n",
    "print_produtos(produtos, \"Produtos\")"
   ],
   "outputs": [
    {
     "output_type": "stream",
     "name": "stdout",
     "text": [
      "==================================================================\n",
      "Produtos\n",
      "==================================================================\n",
      "\tNome: chocolate  | Valo: R$   3.45 | ID: 1808477204192\n",
      "\tNome: biscoito   | Valo: R$   2.49 | ID: 1808477202944\n",
      "\tNome: cafe       | Valo: R$   3.45 | ID: 1808477203184\n",
      "\tNome: suco       | Valo: R$   4.30 | ID: 1808490932544\n",
      "\tNome: feijao     | Valo: R$  10.00 | ID: 1808490931056\n",
      "\tNome: arroz      | Valo: R$   8.50 | ID: 1808490933360\n"
     ]
    }
   ],
   "metadata": {}
  },
  {
   "cell_type": "code",
   "execution_count": 57,
   "source": [
    "produtos_ordenados_por_valor = sorted(produtos, key=lambda x: x.valor)\r\n",
    "print_produtos(produtos_ordenados_por_valor, \"Produtos ordenados por valor\")\r\n"
   ],
   "outputs": [
    {
     "output_type": "stream",
     "name": "stdout",
     "text": [
      "==================================================================\n",
      "Produtos ordenados por valor\n",
      "==================================================================\n",
      "\tNome: biscoito   | Valo: R$   2.49 | ID: 1808491002800\n",
      "\tNome: chocolate  | Valo: R$   3.45 | ID: 1808491003232\n",
      "\tNome: cafe       | Valo: R$   3.45 | ID: 1808491002224\n",
      "\tNome: suco       | Valo: R$   4.30 | ID: 1808490933696\n",
      "\tNome: arroz      | Valo: R$   8.50 | ID: 1808490934032\n",
      "\tNome: feijao     | Valo: R$  10.00 | ID: 1808490933456\n"
     ]
    }
   ],
   "metadata": {}
  },
  {
   "cell_type": "code",
   "execution_count": 61,
   "source": [
    "produtos_ordenados_por_nome = sorted(produtos, key=lambda x: x.nome)\r\n",
    "print_produtos(produtos_ordenados_por_nome, \"Produtos ordenados por nome\")"
   ],
   "outputs": [
    {
     "output_type": "stream",
     "name": "stdout",
     "text": [
      "==================================================================\n",
      "Produtos ordenados por nome\n",
      "==================================================================\n",
      "\tNome: arroz      | Valo: R$   8.50 | ID: 1808490934032\n",
      "\tNome: biscoito   | Valo: R$   2.49 | ID: 1808491002800\n",
      "\tNome: cafe       | Valo: R$   3.45 | ID: 1808491002224\n",
      "\tNome: chocolate  | Valo: R$   3.45 | ID: 1808491003232\n",
      "\tNome: feijao     | Valo: R$  10.00 | ID: 1808490933456\n",
      "\tNome: suco       | Valo: R$   4.30 | ID: 1808490933696\n"
     ]
    }
   ],
   "metadata": {}
  },
  {
   "cell_type": "code",
   "execution_count": 62,
   "source": [
    "produtos_ordenados_por_id = sorted(produtos, key=lambda x: id(x))\r\n",
    "print_produtos(produtos_ordenados_por_id, \"Produtos ordenados por id\")"
   ],
   "outputs": [
    {
     "output_type": "stream",
     "name": "stdout",
     "text": [
      "==================================================================\n",
      "Produtos ordenados por id\n",
      "==================================================================\n",
      "\tNome: feijao     | Valo: R$  10.00 | ID: 1808490933456\n",
      "\tNome: suco       | Valo: R$   4.30 | ID: 1808490933696\n",
      "\tNome: arroz      | Valo: R$   8.50 | ID: 1808490934032\n",
      "\tNome: cafe       | Valo: R$   3.45 | ID: 1808491002224\n",
      "\tNome: biscoito   | Valo: R$   2.49 | ID: 1808491002800\n",
      "\tNome: chocolate  | Valo: R$   3.45 | ID: 1808491003232\n"
     ]
    }
   ],
   "metadata": {}
  },
  {
   "cell_type": "code",
   "execution_count": null,
   "source": [],
   "outputs": [],
   "metadata": {}
  }
 ],
 "metadata": {
  "orig_nbformat": 4,
  "language_info": {
   "name": "python",
   "version": "3.9.7",
   "mimetype": "text/x-python",
   "codemirror_mode": {
    "name": "ipython",
    "version": 3
   },
   "pygments_lexer": "ipython3",
   "nbconvert_exporter": "python",
   "file_extension": ".py"
  },
  "kernelspec": {
   "name": "python3",
   "display_name": "Python 3.9.7 64-bit (conda)"
  },
  "interpreter": {
   "hash": "8ae6e8347844ce31cefbfab1c46c85d6003d3a1108122483edd0f60efc9feef7"
  }
 },
 "nbformat": 4,
 "nbformat_minor": 2
}